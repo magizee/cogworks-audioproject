{
 "cells": [
  {
   "cell_type": "code",
   "execution_count": 1,
   "metadata": {},
   "outputs": [],
   "source": [
    "# run this cell (maybe twice to get %matplotlib notebook to work)\n",
    "import numpy as np\n",
    "import matplotlib.pyplot as plt\n",
    "import matplotlib.mlab as mlab\n",
    "from microphone import record_audio\n",
    "from typing import Tuple\n",
    "\n",
    "%matplotlib notebook"
   ]
  },
  {
   "cell_type": "code",
   "execution_count": 5,
   "metadata": {},
   "outputs": [],
   "source": [
    "def load_and_parse(file_path: str) -> Tuple[np.ndarray, int]:\n",
    "    \"\"\"\n",
    "    Loads a saved digital signal from an npy file and returns the signal and the sampling rate.\n",
    "    \n",
    "    Parameters\n",
    "    ----------\n",
    "    file_path : Union[str, pathlib.Path]\n",
    "        Path to the numpy-based audio file (.npy) to be loaded\n",
    "        \n",
    "    Returns\n",
    "    -------\n",
    "    Tuple[np.ndarray, int]\n",
    "        A tuple containing two elements:\n",
    "        - element 0: The digital signal as a NumPy array (shape-(N,) array)\n",
    "        - element 1: The sampling rate (int)\n",
    "    \"\"\"\n",
    "    # \n",
    "    loaded_array = np.load(file_path)\n",
    "    \n",
    "    sample_rate = loaded_array[0]\n",
    "    signal = loaded_array[1:]\n",
    "    \n",
    "    return signal, sample_rate\n",
    "\n",
    "def record_and_save(listen_time: float, file_path: str):\n",
    "    \"\"\"\n",
    "    Uses microphone to record and digitize an analog signal \n",
    "    and save the resulting digital signal and sampling rate to npy file.\n",
    "    \n",
    "    The first element in the saved array should store the the sample-rate;\n",
    "    the remaining elements in the array should store the sampled data itself.\n",
    "    \n",
    "    \n",
    "    Parameters\n",
    "    ----------\n",
    "    listen_time : float\n",
    "        Length of recording in seconds.\n",
    "        \n",
    "    file_path : Union[str, pathlib.Path]\n",
    "        Path to the file destination. E.g. \"my_audio.npy\" will save an audio\n",
    "        file called \"my_audio.npy\" to the current working directory.\n",
    "    \"\"\"\n",
    "    \n",
    "    # 1. Record audio for appropriate amount of time, producing frames & sample-rate\n",
    "    # 2. Convert frames to array of 16-bit integers (samples)\n",
    "    # 3. Create a 32-bit int array whose first element is the sample-rate \n",
    "    #   (this is the \"header\" of our audio file)\n",
    "    #    and the rest of the elements are the samples (stored as 32-bit ints)\n",
    "    # 4. Save this array to the specified file-path\n",
    "    \n",
    "    # \n",
    "    frames, sample_rate = record_audio(listen_time)\n",
    "\n",
    "    samples = np.hstack([np.frombuffer(i, np.int16) for i in frames])\n",
    "    array_to_save = np.hstack((sample_rate, samples))\n",
    "\n",
    "    np.save(file_path, array_to_save)"
   ]
  },
  {
   "cell_type": "code",
   "execution_count": 6,
   "metadata": {},
   "outputs": [
    {
     "name": "stdout",
     "output_type": "stream",
     "text": [
      "Using input device 'Microphone (Fifine Microphone)'\n",
      "Recording ended\n"
     ]
    }
   ],
   "source": [
    "record_and_save(10, \"./example-recording.npy\")"
   ]
  },
  {
   "cell_type": "code",
   "execution_count": 7,
   "metadata": {},
   "outputs": [],
   "source": [
    "samples, sample_rate = load_and_parse(file_path=\"./example-recording.npy\") "
   ]
  },
  {
   "cell_type": "code",
   "execution_count": 12,
   "metadata": {},
   "outputs": [],
   "source": [
    "def generate_random_clips(audio_samples, sr, clip_length_sec, num_clips):\n",
    "    \"\"\"\n",
    "    Generate random clips from a given audio sample.\n",
    "\n",
    "    Parameters:\n",
    "    audio_samples (np.ndarray): Array of audio samples.\n",
    "    sr (int): Sample rate of the audio samples.\n",
    "    clip_length_sec (float): Length of each clip in seconds.\n",
    "    num_clips (int): Number of random clips to generate.\n",
    "\n",
    "    Returns:\n",
    "    List[np.ndarray]: List of arrays, each containing audio samples of a random clip.\n",
    "    \"\"\"\n",
    "\n",
    "    total_length_samples = len(audio_samples)\n",
    "\n",
    "    clip_length_samples = int(clip_length_sec * sr)\n",
    "\n",
    "    if total_length_samples < clip_length_samples:\n",
    "        raise ValueError(\"The length of the audio sample is shorter than the desired clip length.\")\n",
    "\n",
    "    clips = []\n",
    "\n",
    "    while len(clips) < num_clips:\n",
    "        start = np.random.randint(0, total_length_samples - clip_length_samples)\n",
    "        end = start + clip_length_samples\n",
    "        clip = audio_samples[start:end]\n",
    "        clips.append(clip)\n",
    "\n",
    "    return clips\n"
   ]
  },
  {
   "cell_type": "code",
   "execution_count": 14,
   "metadata": {},
   "outputs": [
    {
     "name": "stdout",
     "output_type": "stream",
     "text": [
      "Clip 1: 44100 samples\n",
      "Clip 2: 44100 samples\n",
      "Clip 3: 44100 samples\n",
      "Clip 4: 44100 samples\n",
      "Clip 5: 44100 samples\n"
     ]
    }
   ],
   "source": [
    "clips = generate_random_clips(samples, sample_rate, 1, 5)\n",
    "\n",
    "# Print details of the generated clips\n",
    "for i, clip in enumerate(clips):\n",
    "    print(f\"Clip {i+1}: {len(clip)} samples\")"
   ]
  }
 ],
 "metadata": {
  "kernelspec": {
   "display_name": "week1",
   "language": "python",
   "name": "python3"
  },
  "language_info": {
   "codemirror_mode": {
    "name": "ipython",
    "version": 3
   },
   "file_extension": ".py",
   "mimetype": "text/x-python",
   "name": "python",
   "nbconvert_exporter": "python",
   "pygments_lexer": "ipython3",
   "version": "3.8.19"
  }
 },
 "nbformat": 4,
 "nbformat_minor": 2
}
