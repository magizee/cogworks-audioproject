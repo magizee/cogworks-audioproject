{
 "cells": [
  {
   "cell_type": "code",
   "execution_count": 15,
   "metadata": {},
   "outputs": [],
   "source": [
    "import numpy as np\n",
    "\n",
    "peaks = [(1, 2), (3, 4), (5, 6), (7, 8), (9, 10)]\n",
    "\n",
    "#peak: row=freq, col=time\n",
    "\n",
    "#fingerprint: [ abs-time, (freq, new_freq, delta_time) ]\n"
   ]
  },
  {
   "cell_type": "code",
   "execution_count": 19,
   "metadata": {},
   "outputs": [],
   "source": [
    "def generate_fingerprints(peaks, fanout):\n",
    "\n",
    "    fingerprints = []\n",
    "    peaks = np.array(peaks)\n",
    "\n",
    "    for i, peak in enumerate(peaks): # for each peak\n",
    "        freq, absolute_time = peak\n",
    "        distances = np.sqrt(np.sum((peaks[i:] - peak)**2, axis=1))   \n",
    "        nearest_indices = np.argsort(distances)[1:fanout + 1]\n",
    "        for k in nearest_indices:\n",
    "            new_freq, new_time = peaks[k]\n",
    "            if new_time > absolute_time:    \n",
    "                delta_time = new_time - absolute_time\n",
    "                fingerprint = (freq, new_freq, delta_time)\n",
    "                fingerprints.append((absolute_time, fingerprint))\n",
    "\n",
    "    return fingerprints"
   ]
  },
  {
   "cell_type": "code",
   "execution_count": 20,
   "metadata": {},
   "outputs": [
    {
     "name": "stdout",
     "output_type": "stream",
     "text": [
      "[(2, (1, 3, 2)), (2, (1, 5, 4)), (4, (3, 5, 2))]\n"
     ]
    }
   ],
   "source": [
    "print(generate_fingerprints(peaks, 2))\n"
   ]
  }
 ],
 "metadata": {
  "kernelspec": {
   "display_name": "week1",
   "language": "python",
   "name": "python3"
  },
  "language_info": {
   "codemirror_mode": {
    "name": "ipython",
    "version": 3
   },
   "file_extension": ".py",
   "mimetype": "text/x-python",
   "name": "python",
   "nbconvert_exporter": "python",
   "pygments_lexer": "ipython3",
   "version": "3.8.19"
  }
 },
 "nbformat": 4,
 "nbformat_minor": 2
}
